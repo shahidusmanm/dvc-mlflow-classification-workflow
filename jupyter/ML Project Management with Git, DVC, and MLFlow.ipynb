{
 "cells": [
  {
   "cell_type": "markdown",
   "id": "0c40c634",
   "metadata": {},
   "source": [
    "# DVC & MLFlow Classification Workflow\n",
    "\n",
    "### Set up the environment\n",
    "\n",
    "You can set up the environment through any of the following ways;\n",
    "\n",
    "##### Through the exported YAML file\n",
    "\n",
    "If you're using anaconda, you just need to import the provided `conda_env.yml` file. You can import it by running the following command:\n",
    "\n",
    "```\n",
    "$  conda env create -f conda_env.yml\n",
    "```\n",
    "\n",
    "\n",
    "#### Through the Python requirements file\n",
    "\n",
    "If you don't have anaconda installed, you can import all the required python dependecies by running:\n",
    "\n",
    "```\n",
    "$  pip install -r requirements.txt\n",
    "```\n",
    "\n",
    "\n",
    "### Running workflow stages through the Jupyter Notebook\n",
    "\n",
    "You can use the provided `ML Project Management with Git, DVC, and MLFlow.ipynb` to run individual pipeline stages. The global variables can be set in the `src/config.py` or by passing them as arguments through individual function calls.\n",
    "\n",
    "**Note:** For training stages to work properly through the notebook, the `final_model` flag in the `config.py` file needs to be set to `False`. The flag indicates to the DVC pipeline that model exploration has been completed and that the pipeline run should result in a model that needs to be registered and published.\n",
    "\n",
    "\n",
    "### Running workflow stages through the shell\n",
    "\n",
    "You can also run individual stages via the commandline. You should just execute which ever stage you want by running its respective `py` file. For example, you can train a model by running;\n",
    "\n",
    "```\n",
    "$  python src/train.py\n",
    "```\n",
    "\n",
    "All config paramaters including the model type and hyperparameters will be set through `config.py` in this case. A future release of this workflow will include passing these parameters as shell arguments.\n",
    "\n",
    "\n",
    "### Running the pipeline via DVC\n",
    "\n",
    "Once you're happy with the model, you can run the entire pipeline by running the following command in shell:\n",
    "\n",
    "```\n",
    "$  dvc repro\n",
    "```\n",
    "\n",
    "### Visualizing the Pipeline DAG\n",
    "\n",
    "You can visualize the end-to-end pipeline configured by running\n",
    "\n",
    "```\n",
    "$  dvg dag\n",
    "```\n",
    "\n",
    "### View MLFlow Tracking UI\n",
    "\n",
    "The main benefit of this workflow is the ability to track model artifacts and analyze them via an easy-to-use interface. These artifacts are recorded and tracked by MLFlow and can be analyzed by their Web UI. To run the UI server;\n",
    "\n",
    "```\n",
    "$  cd src\n",
    "$  mlflow ui\n",
    "```\n",
    "**Note:** You must be in the `src` directory before you launch the UI because all the MLFlow data is stored in `src/mlruns`. Future releases of this workflow will have the functionality to store MLFlow artifacts to a custom location."
   ]
  },
  {
   "cell_type": "code",
   "execution_count": 1,
   "id": "c8b0d6e8",
   "metadata": {},
   "outputs": [],
   "source": [
    "import os\n",
    "os.chdir('../src')"
   ]
  },
  {
   "cell_type": "code",
   "execution_count": 2,
   "id": "f2bdb01f",
   "metadata": {},
   "outputs": [],
   "source": [
    "# Import the Workflow API\n",
    "import preprocessing, split, train, evaluate"
   ]
  },
  {
   "cell_type": "code",
   "execution_count": 3,
   "id": "b6c125cd",
   "metadata": {},
   "outputs": [],
   "source": [
    "# Set global variables\n",
    "path = '../data'"
   ]
  },
  {
   "cell_type": "code",
   "execution_count": 4,
   "id": "7d0c2692",
   "metadata": {},
   "outputs": [],
   "source": [
    "# Run the feature engineering stage\n",
    "# Warning: This stage takes ~2 hours to run.\n",
    "processed_features = preprocessing.preprocessing (path)"
   ]
  },
  {
   "cell_type": "code",
   "execution_count": 5,
   "id": "0172a5b3",
   "metadata": {},
   "outputs": [],
   "source": [
    "# processed features are stored in data/features. If there has been no change in the original data, \n",
    "# previous features can be loaded directly.\n",
    "import pandas as pd\n",
    "\n",
    "processed_features = pd.read_csv('../data/features/features.csv')"
   ]
  },
  {
   "cell_type": "code",
   "execution_count": 6,
   "id": "a60c5e7b",
   "metadata": {},
   "outputs": [
    {
     "data": {
      "text/html": [
       "<div>\n",
       "<style scoped>\n",
       "    .dataframe tbody tr th:only-of-type {\n",
       "        vertical-align: middle;\n",
       "    }\n",
       "\n",
       "    .dataframe tbody tr th {\n",
       "        vertical-align: top;\n",
       "    }\n",
       "\n",
       "    .dataframe thead th {\n",
       "        text-align: right;\n",
       "    }\n",
       "</style>\n",
       "<table border=\"1\" class=\"dataframe\">\n",
       "  <thead>\n",
       "    <tr style=\"text-align: right;\">\n",
       "      <th></th>\n",
       "      <th>power</th>\n",
       "      <th>pitch_mean</th>\n",
       "      <th>pitch_sd</th>\n",
       "      <th>voiced_fr</th>\n",
       "      <th>tempogram</th>\n",
       "      <th>label</th>\n",
       "    </tr>\n",
       "  </thead>\n",
       "  <tbody>\n",
       "    <tr>\n",
       "      <th>0</th>\n",
       "      <td>0.011559</td>\n",
       "      <td>181.337028</td>\n",
       "      <td>49.182666</td>\n",
       "      <td>0.875486</td>\n",
       "      <td>0.160427</td>\n",
       "      <td>Harry</td>\n",
       "    </tr>\n",
       "    <tr>\n",
       "      <th>1</th>\n",
       "      <td>0.030912</td>\n",
       "      <td>154.289764</td>\n",
       "      <td>23.416716</td>\n",
       "      <td>0.888167</td>\n",
       "      <td>0.160363</td>\n",
       "      <td>Harry</td>\n",
       "    </tr>\n",
       "    <tr>\n",
       "      <th>2</th>\n",
       "      <td>0.028044</td>\n",
       "      <td>215.548706</td>\n",
       "      <td>37.241349</td>\n",
       "      <td>0.684276</td>\n",
       "      <td>0.194186</td>\n",
       "      <td>Harry</td>\n",
       "    </tr>\n",
       "    <tr>\n",
       "      <th>3</th>\n",
       "      <td>0.050587</td>\n",
       "      <td>336.075273</td>\n",
       "      <td>61.214650</td>\n",
       "      <td>0.911296</td>\n",
       "      <td>0.247447</td>\n",
       "      <td>Harry</td>\n",
       "    </tr>\n",
       "    <tr>\n",
       "      <th>4</th>\n",
       "      <td>0.028518</td>\n",
       "      <td>416.962326</td>\n",
       "      <td>26.971695</td>\n",
       "      <td>0.539376</td>\n",
       "      <td>0.171848</td>\n",
       "      <td>Harry</td>\n",
       "    </tr>\n",
       "  </tbody>\n",
       "</table>\n",
       "</div>"
      ],
      "text/plain": [
       "      power  pitch_mean   pitch_sd  voiced_fr  tempogram  label\n",
       "0  0.011559  181.337028  49.182666   0.875486   0.160427  Harry\n",
       "1  0.030912  154.289764  23.416716   0.888167   0.160363  Harry\n",
       "2  0.028044  215.548706  37.241349   0.684276   0.194186  Harry\n",
       "3  0.050587  336.075273  61.214650   0.911296   0.247447  Harry\n",
       "4  0.028518  416.962326  26.971695   0.539376   0.171848  Harry"
      ]
     },
     "execution_count": 6,
     "metadata": {},
     "output_type": "execute_result"
    }
   ],
   "source": [
    "# View/Analyze the processed features\n",
    "processed_features.head()"
   ]
  },
  {
   "cell_type": "code",
   "execution_count": 7,
   "id": "cef4b39a",
   "metadata": {},
   "outputs": [
    {
     "name": "stdout",
     "output_type": "stream",
     "text": [
      "<class 'pandas.core.frame.DataFrame'>\n",
      "RangeIndex: 1669 entries, 0 to 1668\n",
      "Data columns (total 6 columns):\n",
      " #   Column      Non-Null Count  Dtype  \n",
      "---  ------      --------------  -----  \n",
      " 0   power       1669 non-null   float64\n",
      " 1   pitch_mean  1669 non-null   float64\n",
      " 2   pitch_sd    1669 non-null   float64\n",
      " 3   voiced_fr   1669 non-null   float64\n",
      " 4   tempogram   1669 non-null   float64\n",
      " 5   label       1669 non-null   object \n",
      "dtypes: float64(5), object(1)\n",
      "memory usage: 78.4+ KB\n"
     ]
    }
   ],
   "source": [
    "# Analyze the features dataframe\n",
    "processed_features.info()"
   ]
  },
  {
   "cell_type": "code",
   "execution_count": 8,
   "id": "3e178434",
   "metadata": {},
   "outputs": [
    {
     "data": {
      "text/html": [
       "<div>\n",
       "<style scoped>\n",
       "    .dataframe tbody tr th:only-of-type {\n",
       "        vertical-align: middle;\n",
       "    }\n",
       "\n",
       "    .dataframe tbody tr th {\n",
       "        vertical-align: top;\n",
       "    }\n",
       "\n",
       "    .dataframe thead th {\n",
       "        text-align: right;\n",
       "    }\n",
       "</style>\n",
       "<table border=\"1\" class=\"dataframe\">\n",
       "  <thead>\n",
       "    <tr style=\"text-align: right;\">\n",
       "      <th></th>\n",
       "      <th>power</th>\n",
       "      <th>pitch_mean</th>\n",
       "      <th>pitch_sd</th>\n",
       "      <th>voiced_fr</th>\n",
       "      <th>tempogram</th>\n",
       "    </tr>\n",
       "  </thead>\n",
       "  <tbody>\n",
       "    <tr>\n",
       "      <th>count</th>\n",
       "      <td>1669.000000</td>\n",
       "      <td>1669.000000</td>\n",
       "      <td>1669.000000</td>\n",
       "      <td>1669.000000</td>\n",
       "      <td>1669.000000</td>\n",
       "    </tr>\n",
       "    <tr>\n",
       "      <th>mean</th>\n",
       "      <td>0.039000</td>\n",
       "      <td>261.261400</td>\n",
       "      <td>40.711915</td>\n",
       "      <td>0.736400</td>\n",
       "      <td>0.181999</td>\n",
       "    </tr>\n",
       "    <tr>\n",
       "      <th>std</th>\n",
       "      <td>0.046664</td>\n",
       "      <td>101.697240</td>\n",
       "      <td>15.927097</td>\n",
       "      <td>0.134755</td>\n",
       "      <td>0.054971</td>\n",
       "    </tr>\n",
       "    <tr>\n",
       "      <th>min</th>\n",
       "      <td>0.000320</td>\n",
       "      <td>0.000000</td>\n",
       "      <td>0.000000</td>\n",
       "      <td>0.000000</td>\n",
       "      <td>0.053416</td>\n",
       "    </tr>\n",
       "    <tr>\n",
       "      <th>25%</th>\n",
       "      <td>0.019316</td>\n",
       "      <td>172.777705</td>\n",
       "      <td>29.487238</td>\n",
       "      <td>0.670008</td>\n",
       "      <td>0.141208</td>\n",
       "    </tr>\n",
       "    <tr>\n",
       "      <th>50%</th>\n",
       "      <td>0.030007</td>\n",
       "      <td>239.306226</td>\n",
       "      <td>37.649244</td>\n",
       "      <td>0.761447</td>\n",
       "      <td>0.184042</td>\n",
       "    </tr>\n",
       "    <tr>\n",
       "      <th>75%</th>\n",
       "      <td>0.044822</td>\n",
       "      <td>378.390913</td>\n",
       "      <td>49.995933</td>\n",
       "      <td>0.827934</td>\n",
       "      <td>0.222201</td>\n",
       "    </tr>\n",
       "    <tr>\n",
       "      <th>max</th>\n",
       "      <td>0.676868</td>\n",
       "      <td>432.385272</td>\n",
       "      <td>134.570905</td>\n",
       "      <td>0.990399</td>\n",
       "      <td>0.308246</td>\n",
       "    </tr>\n",
       "  </tbody>\n",
       "</table>\n",
       "</div>"
      ],
      "text/plain": [
       "             power   pitch_mean     pitch_sd    voiced_fr    tempogram\n",
       "count  1669.000000  1669.000000  1669.000000  1669.000000  1669.000000\n",
       "mean      0.039000   261.261400    40.711915     0.736400     0.181999\n",
       "std       0.046664   101.697240    15.927097     0.134755     0.054971\n",
       "min       0.000320     0.000000     0.000000     0.000000     0.053416\n",
       "25%       0.019316   172.777705    29.487238     0.670008     0.141208\n",
       "50%       0.030007   239.306226    37.649244     0.761447     0.184042\n",
       "75%       0.044822   378.390913    49.995933     0.827934     0.222201\n",
       "max       0.676868   432.385272   134.570905     0.990399     0.308246"
      ]
     },
     "execution_count": 8,
     "metadata": {},
     "output_type": "execute_result"
    }
   ],
   "source": [
    "# Analyze the features dataframe\n",
    "processed_features.describe()"
   ]
  },
  {
   "cell_type": "code",
   "execution_count": 9,
   "id": "787d9061",
   "metadata": {},
   "outputs": [
    {
     "name": "stdout",
     "output_type": "stream",
     "text": [
      "\n",
      "15% of the data has been stored as the Blind Holdout. It is available in /src/feature_store.\n"
     ]
    }
   ],
   "source": [
    "# Split the data\n",
    "train_df, test_df = split.simple_split(processed_features, 0.7)"
   ]
  },
  {
   "cell_type": "code",
   "execution_count": 10,
   "id": "74513a39",
   "metadata": {},
   "outputs": [
    {
     "name": "stdout",
     "output_type": "stream",
     "text": [
      "Training Dataframe: (993, 6)\n",
      "Testing Dataframe: (426, 6)\n"
     ]
    }
   ],
   "source": [
    "# View the splits\n",
    "print ('Training Dataframe:', train_df.shape)\n",
    "print ('Testing Dataframe:', test_df.shape)"
   ]
  },
  {
   "cell_type": "code",
   "execution_count": 11,
   "id": "4c749223",
   "metadata": {},
   "outputs": [
    {
     "name": "stderr",
     "output_type": "stream",
     "text": [
      "2022/08/26 18:16:02 WARNING mlflow.utils.autologging_utils: MLflow autologging encountered a warning: \"C:\\Users\\Usman\\anaconda3\\envs\\thesis\\lib\\site-packages\\_distutils_hack\\__init__.py:30: UserWarning: Setuptools is replacing distutils.\"\n"
     ]
    },
    {
     "name": "stdout",
     "output_type": "stream",
     "text": [
      "Testing accuracy: 0.6267605633802817\n"
     ]
    }
   ],
   "source": [
    "# Train a model\n",
    "# Results of this training will be logged to MLFlow. They can be analyzed by navigating \n",
    "# to http://localhost:5000 in your browser. Make sure the MLFlow UI server is running as described in the instructions above.\n",
    "\n",
    "# In a Decision Tree, the hyperparameter is max_depth\n",
    "\n",
    "model, run_id = train.train_model ('dt', train_df, test_df, 3)\n",
    "\n"
   ]
  },
  {
   "cell_type": "code",
   "execution_count": 12,
   "id": "56346798",
   "metadata": {},
   "outputs": [
    {
     "name": "stdout",
     "output_type": "stream",
     "text": [
      "Testing accuracy: 0.6408450704225352\n",
      "Testing accuracy: 0.636150234741784\n",
      "Testing accuracy: 0.6173708920187794\n",
      "Testing accuracy: 0.6244131455399061\n",
      "Testing accuracy: 0.6267605633802817\n"
     ]
    }
   ],
   "source": [
    "# Do hyperparameter tuning\n",
    "# Results of this training will be logged to MLFlow. They can be analyzed by navigating \n",
    "# to http://localhost:5000 in your browser. Make sure the MLFlow UI server is running as described in the instructions above.\n",
    "\n",
    "max_depth = [2, 5, 8, 4, 9]\n",
    "\n",
    "for i in max_depth:\n",
    "    train.train_model ('dt', train_df, test_df, i)"
   ]
  },
  {
   "cell_type": "code",
   "execution_count": 13,
   "id": "5b7b6a37",
   "metadata": {},
   "outputs": [
    {
     "name": "stdout",
     "output_type": "stream",
     "text": [
      "Testing accuracy: 0.6995305164319249\n"
     ]
    }
   ],
   "source": [
    "# Train a different model\n",
    "# Results of this training will be logged to MLFlow. They can be analyzed by navigating \n",
    "# to http://localhost:5000 in your browser. Make sure the MLFlow UI server is running as described in the instructions above.\n",
    "\n",
    "# In a Random Forest, the hyperparameter is n_estimators\n",
    "\n",
    "model, run_id = train.train_model ('rf', train_df, test_df, 100)"
   ]
  },
  {
   "cell_type": "code",
   "execution_count": 14,
   "id": "948b0cb0",
   "metadata": {},
   "outputs": [
    {
     "name": "stdout",
     "output_type": "stream",
     "text": [
      "Testing accuracy: 0.5070422535211268\n"
     ]
    }
   ],
   "source": [
    "# Train a different model\n",
    "# Results of this training will be logged to MLFlow. They can be analyzed by navigating \n",
    "# to http://localhost:5000 in your browser. Make sure the MLFlow UI server is running as described in the instructions above.\n",
    "\n",
    "# In a SVM, the hyperparameter is C (the L2 Regularization Penalty)\n",
    "\n",
    "model, run_id = train.train_model ('svm', train_df, test_df, 2)"
   ]
  },
  {
   "cell_type": "code",
   "execution_count": 15,
   "id": "56cdd038",
   "metadata": {},
   "outputs": [],
   "source": [
    "# Evaluate your model on the final blind holdout (validation) dataset\n",
    "\n",
    "blindholdout_data = pd.read_csv('../src/feature_store/blind_holdout.csv')\n",
    "blindholdout_data.head()\n",
    "\n",
    "evaluate.evaluate_validation (run_id, blindholdout_data)\n"
   ]
  }
 ],
 "metadata": {
  "kernelspec": {
   "display_name": "Python 3 (ipykernel)",
   "language": "python",
   "name": "python3"
  },
  "language_info": {
   "codemirror_mode": {
    "name": "ipython",
    "version": 3
   },
   "file_extension": ".py",
   "mimetype": "text/x-python",
   "name": "python",
   "nbconvert_exporter": "python",
   "pygments_lexer": "ipython3",
   "version": "3.10.4"
  }
 },
 "nbformat": 4,
 "nbformat_minor": 5
}
